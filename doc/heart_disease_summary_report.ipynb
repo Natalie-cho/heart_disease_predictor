{
 "cells": [
  {
   "cell_type": "markdown",
   "metadata": {},
   "source": [
    "# Data Analysis of Heart Disease Dataset Summary Report"
   ]
  },
  {
   "cell_type": "markdown",
   "metadata": {},
   "source": [
    "---\n",
    "### Contributors and Maintainers\n",
    "- [Natalie Cho](https://github.com/Natalie-cho)\n",
    "- [Yurui Feng](https://github.com/Yurui-Feng)\n",
    "- [Elena Ganacheva](https://github.com/elenagan)\n",
    "- [Tony Zoght](https://github.com/tzoght)\n",
    "---"
   ]
  },
  {
   "cell_type": "code",
   "execution_count": 4,
   "metadata": {},
   "outputs": [
    {
     "data": {
      "text/plain": [
       "RendererRegistry.enable('mimetype')"
      ]
     },
     "execution_count": 4,
     "metadata": {},
     "output_type": "execute_result"
    }
   ],
   "source": [
    "import pandas as pd\n",
    "import numpy as np\n",
    "from sklearn.model_selection import train_test_split\n",
    "import altair as alt\n",
    "alt.renderers.enable('mimetype')\n",
    "\n",
    "sys.path.append(\"../src\")"
   ]
  },
  {
   "cell_type": "code",
   "execution_count": 8,
   "metadata": {},
   "outputs": [
    {
     "name": "stdout",
     "output_type": "stream",
     "text": [
      "Downloading dataset from https://raw.githubusercontent.com/sharmaroshan/Heart-UCI-Dataset/master/heart.csv to /Users/tzoght/github-ubc/522-DSCI/heart_disease_predictor/doc/../src/../../data/raw/heart.csv\n"
     ]
    }
   ],
   "source": [
    "!python ../src/fetch_dataset.py"
   ]
  },
  {
   "cell_type": "code",
   "execution_count": 9,
   "metadata": {},
   "outputs": [
    {
     "name": "stdout",
     "output_type": "stream",
     "text": [
      "Pre-processing dataset from /Users/tzoght/github-ubc/522-DSCI/heart_disease_predictor/doc/../src/../data/raw/heart.csv to /Users/tzoght/github-ubc/522-DSCI/heart_disease_predictor/doc/../src/../data/processed ...\n",
      "   age  sex  chest_pain_type  ...  num_major_vessels  thalassemia  target\n",
      "0   63    1                3  ...                  0            1       1\n",
      "1   37    1                2  ...                  0            2       1\n",
      "2   41    0                1  ...                  0            2       1\n",
      "3   56    1                1  ...                  0            2       1\n",
      "4   57    0                0  ...                  0            2       1\n",
      "\n",
      "[5 rows x 14 columns]\n",
      "     age  sex  chest_pain_type  ...  num_major_vessels  thalassemia  target\n",
      "285   46    1                0  ...                  2            3       0\n",
      "156   47    1                2  ...                  0            2       1\n",
      "245   48    1                0  ...                  0            3       0\n",
      "133   41    1                1  ...                  0            2       1\n",
      "42    45    1                0  ...                  0            2       1\n",
      "\n",
      "[5 rows x 14 columns]\n",
      "     age  sex  chest_pain_type  ...  num_major_vessels  thalassemia  target\n",
      "182   61    0                0  ...                  0            2       0\n",
      "226   62    1                1  ...                  1            3       0\n",
      "176   60    1                0  ...                  2            3       0\n",
      "207   60    0                0  ...                  2            3       0\n",
      "221   55    1                0  ...                  0            3       0\n",
      "\n",
      "[5 rows x 14 columns]\n"
     ]
    }
   ],
   "source": [
    "!python ../src/pre_process.py"
   ]
  },
  {
   "cell_type": "code",
   "execution_count": 10,
   "metadata": {},
   "outputs": [
    {
     "name": "stdout",
     "output_type": "stream",
     "text": [
      "\n",
      "Performing EDA on the dataset: to be implemented ...\n",
      "Reading data from None\n",
      "Saving EDA artifacts to None\n"
     ]
    }
   ],
   "source": [
    "!python ../src/eda.py"
   ]
  },
  {
   "cell_type": "code",
   "execution_count": 11,
   "metadata": {},
   "outputs": [
    {
     "name": "stdout",
     "output_type": "stream",
     "text": [
      "\n",
      "Training the model(s): to be implemented ...\n",
      "Reading data from None\n",
      "Saving model artifacts to None\n"
     ]
    }
   ],
   "source": [
    "!python ../src/model.py"
   ]
  }
 ],
 "metadata": {
  "kernelspec": {
   "display_name": "Python 3.10.6 ('522')",
   "language": "python",
   "name": "python3"
  },
  "language_info": {
   "codemirror_mode": {
    "name": "ipython",
    "version": 3
   },
   "file_extension": ".py",
   "mimetype": "text/x-python",
   "name": "python",
   "nbconvert_exporter": "python",
   "pygments_lexer": "ipython3",
   "version": "3.10.6"
  },
  "orig_nbformat": 4,
  "vscode": {
   "interpreter": {
    "hash": "b614a90046d5f4a6a27ca55a62d11c9097cc319ee5ed51b65ecb6cbaa17d9d96"
   }
  }
 },
 "nbformat": 4,
 "nbformat_minor": 2
}
