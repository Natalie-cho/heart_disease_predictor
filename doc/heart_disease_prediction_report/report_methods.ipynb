{
 "cells": [
  {
   "cell_type": "markdown",
   "id": "da3b6806-aae0-49ff-bc6f-a0da044fa942",
   "metadata": {},
   "source": [
    "# Methods"
   ]
  },
  {
   "cell_type": "markdown",
   "id": "4b7be599-20fd-4d26-93c4-887edd97921e",
   "metadata": {},
   "source": [
    "## Data\n"
   ]
  },
  {
   "cell_type": "markdown",
   "id": "3d2f5d2e-1fa6-4d19-bfd6-4bf4f9c8ab21",
   "metadata": {},
   "source": []
  },
  {
   "cell_type": "markdown",
   "id": "9b6152ac-49f1-44b0-8c1a-01bcd20ba703",
   "metadata": {},
   "source": [
    "|Train Set Size|Test Set Size|\n",
    "|--------------|-------------|\n",
    "|xxx           |xxx          |"
   ]
  },
  {
   "cell_type": "markdown",
   "id": "18cf37d1-c0df-48cf-ad1d-ba13dbcff934",
   "metadata": {},
   "source": [
    "## Analysis\n"
   ]
  },
  {
   "cell_type": "markdown",
   "id": "cfbf1f9e-f930-4854-a954-acd8c2fb78dc",
   "metadata": {},
   "source": [
    "```{figure} ../../results/coming_soon.png\n",
    "\n",
    "\n",
    "Class imbalance \n",
    "```"
   ]
  },
  {
   "cell_type": "markdown",
   "id": "0caf4297-9e63-4bcf-ba0e-b95561954ac5",
   "metadata": {},
   "source": []
  }
 ],
 "metadata": {
  "kernelspec": {
   "display_name": "Python 3.10.6 64-bit",
   "language": "python",
   "name": "python3"
  },
  "language_info": {
   "codemirror_mode": {
    "name": "ipython",
    "version": 3
   },
   "file_extension": ".py",
   "mimetype": "text/x-python",
   "name": "python",
   "nbconvert_exporter": "python",
   "pygments_lexer": "ipython3",
   "version": "3.10.6"
  },
  "vscode": {
   "interpreter": {
    "hash": "b0fa6594d8f4cbf19f97940f81e996739fb7646882a419484c72d19e05852a7e"
   }
  }
 },
 "nbformat": 4,
 "nbformat_minor": 5
}
