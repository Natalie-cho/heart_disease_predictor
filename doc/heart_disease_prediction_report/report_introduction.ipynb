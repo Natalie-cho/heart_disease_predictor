{
 "cells": [
  {
   "cell_type": "markdown",
   "id": "f5d6fe7e-8389-40bf-92df-b92245c8f6d7",
   "metadata": {
    "tags": []
   },
   "source": [
    "# Introduction"
   ]
  },
  {
   "cell_type": "markdown",
   "id": "af5383fd-2953-4988-b776-42f838d9b0f3",
   "metadata": {},
   "source": [
    "blalalalalal \n",
    "{cite:ps}`docopt`"
   ]
  },
  {
   "cell_type": "code",
   "execution_count": null,
   "id": "721e38e5-2d64-497f-b573-a6326119a996",
   "metadata": {},
   "outputs": [],
   "source": []
  }
 ],
 "metadata": {
  "kernelspec": {
   "display_name": "Python 3.10.6 64-bit",
   "language": "python",
   "name": "python3"
  },
  "language_info": {
   "codemirror_mode": {
    "name": "ipython",
    "version": 3
   },
   "file_extension": ".py",
   "mimetype": "text/x-python",
   "name": "python",
   "nbconvert_exporter": "python",
   "pygments_lexer": "ipython3",
   "version": "3.10.6"
  },
  "vscode": {
   "interpreter": {
    "hash": "b0fa6594d8f4cbf19f97940f81e996739fb7646882a419484c72d19e05852a7e"
   }
  }
 },
 "nbformat": 4,
 "nbformat_minor": 5
}
