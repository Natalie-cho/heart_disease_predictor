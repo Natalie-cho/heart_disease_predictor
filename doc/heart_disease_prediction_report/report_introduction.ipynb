{
 "cells": [
  {
   "cell_type": "markdown",
   "id": "f5d6fe7e-8389-40bf-92df-b92245c8f6d7",
   "metadata": {
    "tags": []
   },
   "source": [
    "# Introduction"
   ]
  },
  {
   "cell_type": "markdown",
   "id": "af5383fd-2953-4988-b776-42f838d9b0f3",
   "metadata": {},
   "source": [
    "The goal of this project is to predict the presence of heart disease based on common early signs and the [Heart Disease UCI](https://www.kaggle.com/ronitf/heart-disease-uci) dataset from the UC Irvine Machine Learning Repository to answer the question: given common early signs and physiological indicators Can we predict the presence of cardiac disease based on symptoms such as chest pain, blood pressure, or resting ECG?\n",
    "Responding to this question will aid in the early detection of heart disease, the world's leading cause of death [ref-1](https://www.cdc.gov/nchs/fastats/leading-causes-of-death.htm)."
   ]
  }
 ],
 "metadata": {
  "kernelspec": {
   "display_name": "Python 3.10.6 64-bit",
   "language": "python",
   "name": "python3"
  },
  "language_info": {
   "codemirror_mode": {
    "name": "ipython",
    "version": 3
   },
   "file_extension": ".py",
   "mimetype": "text/x-python",
   "name": "python",
   "nbconvert_exporter": "python",
   "pygments_lexer": "ipython3",
   "version": "3.10.6"
  },
  "vscode": {
   "interpreter": {
    "hash": "b0fa6594d8f4cbf19f97940f81e996739fb7646882a419484c72d19e05852a7e"
   }
  }
 },
 "nbformat": 4,
 "nbformat_minor": 5
}
