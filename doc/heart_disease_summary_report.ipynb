{
 "cells": [
  {
   "cell_type": "markdown",
   "metadata": {},
   "source": [
    "# Data Analysis of Heart Disease Dataset Summary Report"
   ]
  },
  {
   "cell_type": "markdown",
   "metadata": {},
   "source": [
    "---\n",
    "### Contributors and Maintainers\n",
    "- [Natalie Cho](https://github.com/Natalie-cho)\n",
    "- [Yurui Feng](https://github.com/Yurui-Feng)\n",
    "- [Elena Ganacheva](https://github.com/elenagan)\n",
    "- [Tony Zoght](https://github.com/tzoght)\n",
    "---"
   ]
  }
 ],
 "metadata": {
  "kernelspec": {
   "display_name": "Python 3 (ipykernel)",
   "language": "python",
   "name": "python3"
  },
  "language_info": {
   "codemirror_mode": {
    "name": "ipython",
    "version": 3
   },
   "file_extension": ".py",
   "mimetype": "text/x-python",
   "name": "python",
   "nbconvert_exporter": "python",
   "pygments_lexer": "ipython3",
   "version": "3.10.6"
  },
  "vscode": {
   "interpreter": {
    "hash": "b614a90046d5f4a6a27ca55a62d11c9097cc319ee5ed51b65ecb6cbaa17d9d96"
   }
  }
 },
 "nbformat": 4,
 "nbformat_minor": 4
}
