{
 "cells": [
  {
   "cell_type": "markdown",
   "id": "4da52cc7-d6ad-4b36-915d-10f2c4516f32",
   "metadata": {
    "tags": []
   },
   "source": [
    "# Output, Results and Discussions"
   ]
  },
  {
   "cell_type": "markdown",
   "id": "fcd68811-23a2-48c6-9654-9b644650ae6b",
   "metadata": {},
   "source": [
    "In order to predict heart disease in patients based on the different health indicators provided in the dataset, we decided to try two different models, `LogisticRegression` and `SVC` (support vector classifier), with default parameters as well as the `DummyClassifier` as a base model for comparison. We conducted 5-fold cross validation on the train set and extracted the mean fit time, score time, test score and train score for each model as well as the standard deviations to compare the models and select one for hyperparameter optimization. We used the f1 score as opposed to accuracy as our scoring metric due to the class imbalance we observed during our EDA. The results are listed in the table below:"
   ]
  },
  {
   "cell_type": "code",
   "execution_count": 1,
   "id": "719a66aa-2acd-4311-b0f0-40c79d804bf7",
   "metadata": {
    "tags": [
     "hide-input"
    ]
   },
   "outputs": [],
   "source": [
    "import pandas as pd"
   ]
  },
  {
   "cell_type": "code",
   "execution_count": 12,
   "id": "4cc77c70",
   "metadata": {
    "tags": [
     "hide-input"
    ]
   },
   "outputs": [
    {
     "data": {
      "text/html": [
       "<div>\n",
       "<style scoped>\n",
       "    .dataframe tbody tr th:only-of-type {\n",
       "        vertical-align: middle;\n",
       "    }\n",
       "\n",
       "    .dataframe tbody tr th {\n",
       "        vertical-align: top;\n",
       "    }\n",
       "\n",
       "    .dataframe thead th {\n",
       "        text-align: right;\n",
       "    }\n",
       "</style>\n",
       "<table border=\"1\" class=\"dataframe\">\n",
       "  <thead>\n",
       "    <tr style=\"text-align: right;\">\n",
       "      <th></th>\n",
       "      <th>Dummy: Mean</th>\n",
       "      <th>Dummy: Std</th>\n",
       "      <th>SVC: Mean</th>\n",
       "      <th>SVC: Std</th>\n",
       "      <th>LogisticRegression: Mean</th>\n",
       "      <th>LogisticRegression: Std</th>\n",
       "    </tr>\n",
       "  </thead>\n",
       "  <tbody>\n",
       "    <tr>\n",
       "      <th>fit_time</th>\n",
       "      <td>0.001</td>\n",
       "      <td>0.001</td>\n",
       "      <td>0.008</td>\n",
       "      <td>0.001</td>\n",
       "      <td>0.012</td>\n",
       "      <td>0.001</td>\n",
       "    </tr>\n",
       "    <tr>\n",
       "      <th>score_time</th>\n",
       "      <td>0.001</td>\n",
       "      <td>0.000</td>\n",
       "      <td>0.006</td>\n",
       "      <td>0.002</td>\n",
       "      <td>0.005</td>\n",
       "      <td>0.001</td>\n",
       "    </tr>\n",
       "    <tr>\n",
       "      <th>test_score</th>\n",
       "      <td>0.726</td>\n",
       "      <td>0.007</td>\n",
       "      <td>0.870</td>\n",
       "      <td>0.038</td>\n",
       "      <td>0.836</td>\n",
       "      <td>0.012</td>\n",
       "    </tr>\n",
       "    <tr>\n",
       "      <th>train_score</th>\n",
       "      <td>0.726</td>\n",
       "      <td>0.002</td>\n",
       "      <td>0.908</td>\n",
       "      <td>0.003</td>\n",
       "      <td>0.885</td>\n",
       "      <td>0.008</td>\n",
       "    </tr>\n",
       "  </tbody>\n",
       "</table>\n",
       "</div>"
      ],
      "text/plain": [
       "             Dummy: Mean  Dummy: Std  SVC: Mean  SVC: Std  \\\n",
       "fit_time           0.001       0.001      0.008     0.001   \n",
       "score_time         0.001       0.000      0.006     0.002   \n",
       "test_score         0.726       0.007      0.870     0.038   \n",
       "train_score        0.726       0.002      0.908     0.003   \n",
       "\n",
       "             LogisticRegression: Mean  LogisticRegression: Std  \n",
       "fit_time                        0.012                    0.001  \n",
       "score_time                      0.005                    0.001  \n",
       "test_score                      0.836                    0.012  \n",
       "train_score                     0.885                    0.008  "
      ]
     },
     "execution_count": 12,
     "metadata": {},
     "output_type": "execute_result"
    }
   ],
   "source": [
    "pd.read_csv(\"../../results/model_selection_results.csv\", index_col=0, header = 0, names=[\"Dummy: Mean\", \"Dummy: Std\", \"SVC: Mean\", \"SVC: Std\", \"LogisticRegression: Mean\", \"LogisticRegression: Std\"])"
   ]
  },
  {
   "cell_type": "markdown",
   "id": "bb539645",
   "metadata": {},
   "source": [
    "Table 1: Cross validation mean scores and standard deviation by model"
   ]
  },
  {
   "cell_type": "markdown",
   "id": "02912624",
   "metadata": {},
   "source": [
    "Based on these results, we could see that the `DummyClassifier` model already performs quite well at predicting the presence of disease. However, both `SVC` and `LogisticRegession` had higher mean cross validation scores and were already performing better than the `DummyClassifier` with default values. "
   ]
  },
  {
   "cell_type": "markdown",
   "id": "2642eae9-7929-45bc-bcd2-ce4b90d6a215",
   "metadata": {},
   "source": [
    "## Conclusions\n",
    "\n",
    "## Limitations & Future Work\n"
   ]
  }
 ],
 "metadata": {
  "kernelspec": {
   "display_name": "Python 3.10.6 ('573')",
   "language": "python",
   "name": "python3"
  },
  "language_info": {
   "codemirror_mode": {
    "name": "ipython",
    "version": 3
   },
   "file_extension": ".py",
   "mimetype": "text/x-python",
   "name": "python",
   "nbconvert_exporter": "python",
   "pygments_lexer": "ipython3",
   "version": "3.10.6"
  },
  "vscode": {
   "interpreter": {
    "hash": "a556218dc916ec8fe5a7425af783d810a50d05b8baa00b29b5da0a475b18c0df"
   }
  }
 },
 "nbformat": 4,
 "nbformat_minor": 5
}
